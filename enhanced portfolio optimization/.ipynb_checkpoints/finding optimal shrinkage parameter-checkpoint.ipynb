{
 "cells": [
  {
   "cell_type": "markdown",
   "id": "25ae4eab",
   "metadata": {},
   "source": [
    "# Import modules"
   ]
  },
  {
   "cell_type": "code",
   "execution_count": 1,
   "id": "97c3d9f3",
   "metadata": {},
   "outputs": [],
   "source": [
    "import sys\n",
    "from unipath import Path\n",
    "\n",
    "# append codelib to sys path ~ will only work if this jupyter notebook path is sys.path[0]\n",
    "p = Path(sys.path[0])\n",
    "codelib_path = str(p.parent + Path('\\\\codelib'))\n",
    "sys.path.insert(0, codelib_path)\n",
    "\n",
    "# import codelib\n",
    "from helpers import *\n",
    "from mean_variance import *\n",
    "import enhanced_portfolio_optimization as epo\n",
    "\n",
    "# other modules\n",
    "import numpy as np\n",
    "import matplotlib.pyplot as plt\n",
    "from sklearn.decomposition import PCA"
   ]
  },
  {
   "cell_type": "markdown",
   "id": "b784b700",
   "metadata": {},
   "source": [
    "# Import data"
   ]
  },
  {
   "cell_type": "code",
   "execution_count": 54,
   "id": "285276ae",
   "metadata": {},
   "outputs": [],
   "source": [
    "# setting dates\n",
    "start = \"2010-01-01\"\n",
    "end   = \"2020-01-01\"\n",
    "port  = \"5_Industry_Portfolios\"\n",
    "\n",
    "# pulling data\n",
    "df = pdr.famafrench.FamaFrenchReader(port, start, end).read()[0]\n",
    "df = df.replace(-99.99,0) # replace nan values\n",
    "df = df / 100 # changing format to decimals\n",
    "\n",
    "# risk free rate\n",
    "rf = 0.0001\n",
    "\n",
    "# returns in array\n",
    "ret = df.to_numpy()\n",
    "\n",
    "# stocks\n",
    "#ret = daily_return(\"2018-01-01\", end, [\"TSLA\", \"IBM\", \"GOOG\", \"FB\"]).to_numpy()\n",
    "#ret"
   ]
  },
  {
   "cell_type": "markdown",
   "id": "3ab17fd4",
   "metadata": {},
   "source": [
    "# 1-period portfolio variance\n",
    "\n",
    "**Equations**\n",
    "\n",
    "Portfolio variance of three assets.\n",
    "\n",
    "$$\n",
    "\\sigma_P^2 = w_1^2 \\sigma^2_1 + w_2^2 \\sigma^2_2 + w_3^2 \\sigma^2_3 + 2 w_1 w_2 \\sigma_{1,2} + 2 w_1 w_3 \\sigma_{1,3} + + 2 w_2 w_3 \\sigma_{2,3}\n",
    "$$\n",
    "\n",
    "Generalized equation\n",
    "\n",
    "$$\n",
    "\\sigma_P^2 = W^\\intercal (\\Sigma \\cdot W)\n",
    "$$\n",
    "\n",
    "* $W$: Vector of asset weights.\n",
    "* $\\Sigma$: Variance-covariance matrix."
   ]
  },
  {
   "cell_type": "markdown",
   "id": "65c7af2e",
   "metadata": {},
   "source": [
    "### Creating function for portfolio variance"
   ]
  },
  {
   "cell_type": "code",
   "execution_count": 55,
   "id": "250240b7",
   "metadata": {},
   "outputs": [],
   "source": [
    "def portfolio_variance(return_series, weights):\n",
    "    \n",
    "    # calculating covariance matrix\n",
    "    covar = np.cov(return_series.T)\n",
    "    \n",
    "    # calculating portfolio variance\n",
    "    port_var = np.dot(weights.T, np.dot(covar,weights))\n",
    "    \n",
    "    return port_var"
   ]
  },
  {
   "cell_type": "markdown",
   "id": "91e0f607",
   "metadata": {},
   "source": [
    "# Using real data\n",
    "\n",
    "**Joblist** <br>\n",
    "* Calculate 1-period variance for every period.\n",
    "* Compare with variance of full time horizon."
   ]
  },
  {
   "cell_type": "code",
   "execution_count": 56,
   "id": "4837b15a",
   "metadata": {},
   "outputs": [],
   "source": [
    "port_var = []\n",
    "\n",
    "# calculating 1 period variance for every time step\n",
    "for period in range(0,len(ret)-1):\n",
    "    \n",
    "    # obtaining instance of returns\n",
    "    idx_one = period\n",
    "    idx_two = period+2\n",
    "    period_ret = ret[idx_one:idx_two]\n",
    "    \n",
    "    # calculating equal weights\n",
    "    weights = np.linspace(1/len(period_ret.T),\n",
    "                         1/len(period_ret.T),\n",
    "                         len(period_ret.T))\n",
    "    \n",
    "    # calculating portfolio variance\n",
    "    port_var.append(portfolio_variance(period_ret, weights))\n",
    "\n",
    "# calculating equal weighted portfolio returns\n",
    "eq_port = equal_weighted_portfolio(ret)"
   ]
  },
  {
   "cell_type": "code",
   "execution_count": 57,
   "id": "78b5cf62",
   "metadata": {},
   "outputs": [
    {
     "name": "stdout",
     "output_type": "stream",
     "text": [
      "Mean of 1-period variances: 0.001514\n",
      "---\n",
      "Variance of equal weighted portfolio returns: 0.001291\n"
     ]
    }
   ],
   "source": [
    "print(\"Mean of 1-period variances:\", np.round(np.mean(port_var),6))\n",
    "print(\"---\")\n",
    "print(\"Variance of equal weighted portfolio returns:\", np.round(np.var(eq_port),6))"
   ]
  },
  {
   "cell_type": "markdown",
   "id": "dbb4ccd2",
   "metadata": {},
   "source": [
    "# Implications of shrinkage"
   ]
  },
  {
   "cell_type": "code",
   "execution_count": 58,
   "id": "546317c1",
   "metadata": {},
   "outputs": [],
   "source": [
    "num_windows = int(0.5 * len(ret))\n",
    "arr = np.empty([num_windows+1, 20])\n",
    "\n",
    "idx = 0\n",
    "for window in range(num_windows, len(ret)):\n",
    "    \n",
    "    # define ret train and ret test\n",
    "    ret_train = ret[0:window]\n",
    "    ret_test = ret[window]\n",
    "    \n",
    "    # appending sharpe ratios\n",
    "    arr[idx] = epo.different_shrinkage_parameters(ret_train, ret_test, rf=0.0, ledoit_wolf=False, accuracy=20)\n",
    "    \n",
    "    idx += 1"
   ]
  },
  {
   "cell_type": "code",
   "execution_count": 59,
   "id": "61d81f0d",
   "metadata": {},
   "outputs": [
    {
     "data": {
      "text/plain": [
       "[<matplotlib.lines.Line2D at 0x278d83d7d90>]"
      ]
     },
     "execution_count": 59,
     "metadata": {},
     "output_type": "execute_result"
    },
    {
     "data": {
      "image/png": "[encoded data removed]",
      "text/plain": [
       "<Figure size 432x288 with 1 Axes>"
      ]
     },
     "metadata": {
      "needs_background": "light"
     },
     "output_type": "display_data"
    }
   ],
   "source": [
    "plt.plot(np.linspace(0,1,(num_windows+1)), np.mean(arr, axis=1))"
   ]
  },
  {
   "cell_type": "code",
   "execution_count": 42,
   "id": "45b9a598",
   "metadata": {},
   "outputs": [
    {
     "data": {
      "text/plain": [
       "array([ 5.47489666e+00,  2.18632584e+01,  9.16578213e+00,  3.47816913e+00,\n",
       "        2.01443266e+00,  1.34188687e+00,  9.54873318e-01,  7.03063423e-01,\n",
       "        5.25953295e-01,  3.94481347e-01,  2.92946476e-01,  2.12118768e-01,\n",
       "        1.46215337e-01,  9.14275061e-02,  4.51439211e-02,  5.51388380e-03,\n",
       "       -2.88111145e-02, -5.88371227e-02, -8.53301035e-02, -1.08883630e-01])"
      ]
     },
     "execution_count": 42,
     "metadata": {},
     "output_type": "execute_result"
    }
   ],
   "source": [
    "arr[-1]"
   ]
  },
  {
   "cell_type": "code",
   "execution_count": 41,
   "id": "c5984a64",
   "metadata": {},
   "outputs": [
    {
     "data": {
      "text/plain": [
       "[5.47489666403989,\n",
       " 21.86325841203425,\n",
       " 9.16578213033252,\n",
       " 3.4781691260491834,\n",
       " 2.014432661431106,\n",
       " 1.3418868694172383,\n",
       " 0.9548733176347167,\n",
       " 0.7030634232017607,\n",
       " 0.5259532950877863,\n",
       " 0.3944813473787725,\n",
       " 0.29294647604848134,\n",
       " 0.21211876848517308,\n",
       " 0.14621533660673136,\n",
       " 0.0914275060616559,\n",
       " 0.04514392105513469,\n",
       " 0.005513883799753308,\n",
       " -0.02881111449321073,\n",
       " -0.05883712269685142,\n",
       " -0.08533010347312055,\n",
       " -0.10888362984079719]"
      ]
     },
     "execution_count": 41,
     "metadata": {},
     "output_type": "execute_result"
    }
   ],
   "source": [
    "epo.different_shrinkage_parameters(ret_train, ret_test, rf=0.0, ledoit_wolf=False, accuracy=20)"
   ]
  },
  {
   "cell_type": "code",
   "execution_count": 31,
   "id": "8ef5cae6",
   "metadata": {},
   "outputs": [
    {
     "name": "stdout",
     "output_type": "stream",
     "text": [
      "---\n",
      "Shrinkage: 0.0\n",
      "Realized sharpe ratio: 2.1099\n",
      "---\n",
      "Shrinkage: 0.1111\n",
      "Realized sharpe ratio: 2.704\n",
      "---\n",
      "Shrinkage: 0.2222\n",
      "Realized sharpe ratio: 4.5328\n",
      "---\n",
      "Shrinkage: 0.3333\n",
      "Realized sharpe ratio: 62.6732\n",
      "---\n",
      "Shrinkage: 0.4444\n",
      "Realized sharpe ratio: 3.6045\n",
      "---\n",
      "Shrinkage: 0.5556\n",
      "Realized sharpe ratio: 1.3668\n",
      "---\n",
      "Shrinkage: 0.6667\n",
      "Realized sharpe ratio: 0.6543\n",
      "---\n",
      "Shrinkage: 0.7778\n",
      "Realized sharpe ratio: 0.3041\n",
      "---\n",
      "Shrinkage: 0.8889\n",
      "Realized sharpe ratio: 0.0957\n",
      "---\n",
      "Shrinkage: 1.0\n",
      "Realized sharpe ratio: -0.0424\n"
     ]
    }
   ],
   "source": [
    "ret_train = ret[0:-1] # full time horizon except last period\n",
    "ret_test = ret[-1] # last period\n",
    "\n",
    "# shrinkage parameter\n",
    "shrink = 0.7\n",
    "\n",
    "for shrink in np.linspace(0,1,10):\n",
    "    \n",
    "    # vector of expected return and variance\n",
    "    mu_train = np.mean(ret_train, axis=0)\n",
    "    sigma_train = np.var(ret_train, axis=0)\n",
    "\n",
    "    # tangency portfolio weights\n",
    "    tan_weights = epo.tangency_portfolio_weights(mu_train, ret_train, rf=0, ledoit_wolf=False, shrinkage=shrink)\n",
    "\n",
    "    # realized tangency portfolio return\n",
    "    real_tan_ret = np.sum(tan_weights * ret_test)\n",
    "\n",
    "    # realized tangency portfolio varinace\n",
    "    real_tan_var = portfolio_variance(np.vstack((ret_train[-1], ret_test)), tan_weights)\n",
    "\n",
    "    # realized sharpe ratio\n",
    "    real_tan_sharpe = (real_tan_ret-rf) / np.sqrt(real_tan_var)\n",
    "\n",
    "    print(\"---\")\n",
    "    print(\"Shrinkage:\", np.round(shrink,4))\n",
    "    print(\"Realized sharpe ratio:\", np.round(real_tan_sharpe, 4))"
   ]
  },
  {
   "cell_type": "code",
   "execution_count": null,
   "id": "fe99a35b",
   "metadata": {},
   "outputs": [],
   "source": []
  },
  {
   "cell_type": "code",
   "execution_count": null,
   "id": "cc09151b",
   "metadata": {},
   "outputs": [],
   "source": []
  },
  {
   "cell_type": "code",
   "execution_count": null,
   "id": "71a173af",
   "metadata": {},
   "outputs": [],
   "source": [
    "idx = int(len(ret)*0.5)\n",
    "return_series = ret\n",
    "rf = 0\n",
    "accuracy = 20"
   ]
  },
  {
   "cell_type": "code",
   "execution_count": null,
   "id": "37f4a8b5",
   "metadata": {},
   "outputs": [],
   "source": [
    "# array for storing sharpe ratios\n",
    "arr = np.empty([accuracy,(len(return_series)-idx)])\n",
    "\n",
    "# looping from baseline to end of return series\n",
    "for window in range(idx, len(return_series)):\n",
    "\n",
    "    # inputs\n",
    "    ret_instance = return_series[0:window] # current window of returns\n",
    "    mu_instance = np.mean(ret_instance, axis=0) # vector of mean\n",
    "    sigma_instance = np.var(ret_instance, axis=0) # vector of variance\n",
    "\n",
    "    # list for sharpe ratios per shrinkage parameter\n",
    "    sharpe_ratios = []\n",
    "    \n",
    "    # looping through different shrinkage parameters\n",
    "    for shrink in np.linspace(0,1,accuracy):\n",
    "\n",
    "        # calculate tangency weights\n",
    "        tan_weights = epo.tangency_portfolio_weights(mu_instance, ret_instance, rf, shrinkage=shrink)\n",
    "\n",
    "        # realized tangency portfolio returns\n",
    "        real_tan_ret = np.sum(tan_weights * return_series[window])\n",
    "\n",
    "        # realized tangency portfolio variance\n",
    "        real_tan_var = portfolio_variance(return_series[0:(window+1)], tan_weights)\n",
    "\n",
    "        # realized sharpe ratio\n",
    "        real_tan_sharpe = (real_tan_ret - rf) / real_tan_var\n",
    "\n",
    "        # append sharpe ratio for instance of shrinkage parameter\n",
    "        sharpe_ratios.append(real_tan_sharpe)\n",
    "\n",
    "    arr[:,0] = sharpe_ratios\n"
   ]
  },
  {
   "cell_type": "code",
   "execution_count": null,
   "id": "1d763aff",
   "metadata": {
    "scrolled": false
   },
   "outputs": [],
   "source": [
    "mean_sharpe = np.mean(arr, axis=1)\n",
    "pd.DataFrame({\"shrinkage\": np.linspace(0,1,accuracy),\n",
    "             \"mean sharpe\": mean_sharpe})"
   ]
  },
  {
   "cell_type": "code",
   "execution_count": null,
   "id": "0263d8e0",
   "metadata": {},
   "outputs": [],
   "source": [
    "plt.plot(mean_sharpe)"
   ]
  },
  {
   "cell_type": "code",
   "execution_count": null,
   "id": "c2bc29d4",
   "metadata": {},
   "outputs": [],
   "source": []
  }
 ],
 "metadata": {
  "kernelspec": {
   "display_name": "Python 3 (ipykernel)",
   "language": "python",
   "name": "python3"
  },
  "language_info": {
   "codemirror_mode": {
    "name": "ipython",
    "version": 3
   },
   "file_extension": ".py",
   "mimetype": "text/x-python",
   "name": "python",
   "nbconvert_exporter": "python",
   "pygments_lexer": "ipython3",
   "version": "3.9.7"
  }
 },
 "nbformat": 4,
 "nbformat_minor": 5
}
