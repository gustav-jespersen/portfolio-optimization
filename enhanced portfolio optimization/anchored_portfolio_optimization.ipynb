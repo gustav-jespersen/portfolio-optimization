{
 "cells": [
  {
   "cell_type": "code",
   "execution_count": 1,
   "id": "04dfa22c",
   "metadata": {},
   "outputs": [],
   "source": [
    "import sys\n",
    "from unipath import Path\n",
    "\n",
    "# append codelib to sys path ~ will only work if this jupyter notebook path is sys.path[0]\n",
    "p = Path(sys.path[0])\n",
    "codelib_path = str(p.parent + Path('\\\\codelib'))\n",
    "sys.path.insert(0, codelib_path)\n",
    "\n",
    "# import codelib\n",
    "from helpers import *\n",
    "from mean_variance import *\n",
    "import enhanced_portfolio_optimization as epo\n",
    "\n",
    "# other modules\n",
    "import numpy as np\n",
    "import matplotlib.pyplot as plt"
   ]
  },
  {
   "cell_type": "markdown",
   "id": "9fd595e8",
   "metadata": {},
   "source": [
    "# Import data"
   ]
  },
  {
   "cell_type": "code",
   "execution_count": 5,
   "id": "6dbf820e",
   "metadata": {},
   "outputs": [
    {
     "name": "stdout",
     "output_type": "stream",
     "text": [
      "Number of assets: 5\n",
      "Number of observations: 265\n"
     ]
    }
   ],
   "source": [
    "# setting dates\n",
    "start = \"2000-01-01\"\n",
    "end   = \"2022-01-01\"\n",
    "port  = \"5_Industry_Portfolios\"\n",
    "\n",
    "# pulling data\n",
    "df = pdr.famafrench.FamaFrenchReader(port, start, end).read()[0]\n",
    "df = df.replace(-99.99,0) # replace nan values\n",
    "df = df / 100 # changing format to decimals\n",
    "\n",
    "# risk free rate\n",
    "rf = 0.0001\n",
    "\n",
    "# returns in array\n",
    "ret = df.to_numpy()\n",
    "\n",
    "print(\"Number of assets:\", ret.shape[1])\n",
    "print(\"Number of observations:\", ret.shape[0])"
   ]
  },
  {
   "cell_type": "markdown",
   "id": "497ef41d",
   "metadata": {},
   "source": [
    "# Equation for anchored EPO\n",
    "\n",
    "The simple equation for the aEPO is as follows.\n",
    "\n",
    "$$\n",
    "\\text{EPO}^a (w) = \\Sigma_w^{-1} ( [1-w] \\frac{\\sqrt{a^\\intercal \\tilde{\\Sigma} a}}{\\sqrt{s^\\intercal \\Sigma_w^{-1} \\tilde{\\Sigma} \\Sigma_w^{-1} s}} s + wVa )  \n",
    "$$\n",
    "\n",
    "* $w$: Shrinkage parameter ~ $w \\in [0,1]$\n",
    "* $\\Sigma_w^{-1}$: Inversed shrunk variance-covariance matrix.\n",
    "* $a$: Vector of weights in anchor portfolio.\n",
    "* $\\tilde{\\Sigma}$: Enhanced variance-covariance matrix.\n",
    "* $s$: Vector of signals about expected excess return.\n",
    "* $V$: Diagonal matrix of variances.\n",
    "\n",
    "**Notes**\n",
    "\n",
    "There is something about $s$ needing to be <u>scaled</u> to the excess return (p. 16). So that $s_i = 0.02$ means $E(r_i) = 0.02$. I think this is because $s$ functions as $\\mu$ in this equation, thus, $s$ is simply $\\mu$ with incorporated signals. Therefore, it must be scaled to match the other inputs.\n"
   ]
  },
  {
   "cell_type": "markdown",
   "id": "38a57ddf",
   "metadata": {},
   "source": [
    "## Full period example\n",
    "\n",
    "Here, I will simply use the full input as an example for calculating the weights. Thus, no validations or train-test-split.\n",
    "\n",
    "**Anchor portfolio** <br>\n",
    "The anchor portfolio will simply be the equal weighted portfolio.\n",
    "\n",
    "$$\n",
    "a = \\frac{1}{N}\n",
    "$$\n",
    "\n",
    "**Signals about expected returns** <br>\n",
    "For simplicity there is going to be no signals or conditional estimation of expected returns. Signals will be a simple mean of returns."
   ]
  },
  {
   "cell_type": "code",
   "execution_count": 6,
   "id": "9fa13666",
   "metadata": {},
   "outputs": [],
   "source": [
    "def shrunk_variance_covariance(return_series: np.ndarray, shrinkage: float):\n",
    "    \n",
    "    # variances\n",
    "    var = np.var(return_series, axis=0)\n",
    "    \n",
    "    # correlation matrix\n",
    "    corr = np.corrcoef(return_series.T)\n",
    "    \n",
    "    # shrunk correlation matrix\n",
    "    shr_corr = corr * (1 - shrinkage) + np.identity(len(return_series[0])) * shrinkage\n",
    "    \n",
    "    # shrunk variance covariance\n",
    "    cov = np.outer(var, var) * shr_corr\n",
    "    \n",
    "    return cov"
   ]
  },
  {
   "cell_type": "code",
   "execution_count": 22,
   "id": "bd1c0735",
   "metadata": {},
   "outputs": [],
   "source": [
    "# shrinkage parameter ~ from paper\n",
    "w = 0.75\n",
    "\n",
    "# shrunk variance covariance matrix\n",
    "shr_Sigma = shrunk_variance_covariance(ret, w)\n",
    "\n",
    "# anchor portfolio\n",
    "weight = 1 / len(shr_Sigma)\n",
    "a = np.linspace(weight, weight, len(shr_Sigma))\n",
    "\n",
    "# enhanced variance-covariance matrix\n",
    "enh_Sigma = np.cov(ret.T)\n",
    "\n",
    "# signals\n",
    "s = np.mean(ret, axis=0)\n",
    "\n",
    "# diagonal matrix of variances\n",
    "V = np.diag(np.var(ret, axis=0))"
   ]
  },
  {
   "cell_type": "code",
   "execution_count": 35,
   "id": "6b8cb31d",
   "metadata": {},
   "outputs": [],
   "source": [
    "def anchored_epo(shrinkage: float, \n",
    "                 shr_Sigma: np.ndarray, \n",
    "                 anchor: np.ndarray, \n",
    "                 enh_Sigma: np.ndarray, \n",
    "                 signals: np.ndarray,\n",
    "                 diag_var: np.ndarray):\n",
    "    \n",
    "    # inputs\n",
    "    inv_shr_Sigma = np.linalg.inv(shr_Sigma)\n",
    "    \n",
    "    nominator = np.sqrt(anchor.T * enh_Sigma * anchor)\n",
    "    denominator = np.sqrt(signals.T * inv_shr_Sigma * enh_Sigma * inv_shr_Sigma * signals)\n",
    "    \n",
    "    a_epo = inv_shr_Sigma * ((1 - shrinkage) * nominator/denominator * signals + shrinkage * diag_var * anchor)\n",
    "\n",
    "    return nominator\n"
   ]
  },
  {
   "cell_type": "code",
   "execution_count": 70,
   "id": "696c9735",
   "metadata": {},
   "outputs": [
    {
     "data": {
      "text/plain": [
       "array([[ 1.01681611e+02, -5.00000000e-02, -5.00000000e-02,\n",
       "        -5.00000000e-02, -5.00000000e-02],\n",
       "       [-5.00000000e-02,  7.75811958e+01, -5.00000000e-02,\n",
       "        -5.00000000e-02, -5.00000000e-02],\n",
       "       [-5.00000000e-02, -5.00000000e-02,  4.22004053e+01,\n",
       "        -5.00000000e-02, -5.00000000e-02],\n",
       "       [-5.00000000e-02, -5.00000000e-02, -5.00000000e-02,\n",
       "         9.56812908e+01, -5.00000000e-02],\n",
       "       [-5.00000000e-02, -5.00000000e-02, -5.00000000e-02,\n",
       "        -5.00000000e-02,  5.87752709e+01]])"
      ]
     },
     "execution_count": 70,
     "metadata": {},
     "output_type": "execute_result"
    }
   ],
   "source": [
    "anchored_epo(w, shr_Sigma, a, enh_Sigma, s, V)"
   ]
  },
  {
   "cell_type": "code",
   "execution_count": null,
   "id": "42778daf",
   "metadata": {},
   "outputs": [],
   "source": []
  }
 ],
 "metadata": {
  "kernelspec": {
   "display_name": "Python 3 (ipykernel)",
   "language": "python",
   "name": "python3"
  },
  "language_info": {
   "codemirror_mode": {
    "name": "ipython",
    "version": 3
   },
   "file_extension": ".py",
   "mimetype": "text/x-python",
   "name": "python",
   "nbconvert_exporter": "python",
   "pygments_lexer": "ipython3",
   "version": "3.9.7"
  }
 },
 "nbformat": 4,
 "nbformat_minor": 5
}
