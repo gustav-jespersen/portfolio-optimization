{
 "cells": [
  {
   "cell_type": "markdown",
   "id": "66352c15-c005-4a38-a944-7db5db73dbee",
   "metadata": {},
   "source": [
    "# Import modules"
   ]
  },
  {
   "cell_type": "code",
   "execution_count": 1,
   "id": "fb119801-e0a6-4028-8182-6baf4a05a503",
   "metadata": {},
   "outputs": [],
   "source": [
    "import sys\n",
    "from unipath import Path\n",
    "\n",
    "# append codelib to sys path ~ will only work if this jupyter notebook path is sys.path[0]\n",
    "p = Path(sys.path[0])\n",
    "codelib_path = str(p.parent + Path('\\\\codelib'))\n",
    "sys.path.insert(0, codelib_path)\n",
    "\n",
    "# import codelib\n",
    "from helpers import *\n",
    "from mean_variance_markowitz import *\n",
    "\n",
    "# other modules\n",
    "import pandas_datareader as pdr\n",
    "import matplotlib.pyplot as plt"
   ]
  },
  {
   "cell_type": "markdown",
   "id": "dc1ef660-e546-421b-8ed7-f3c8a94c7252",
   "metadata": {},
   "source": [
    "# Import data\n",
    "\n",
    "The data consists of five portfolios.\n",
    "\n",
    "1. Cnsmr: Consumer.\n",
    "2. Manuf: Manufactoring.\n",
    "3. HiTec: High Technology.\n",
    "4. Hlth: Healthcare.\n",
    "5. Other.\n",
    "\n",
    "The data spans from 2000 to 2022."
   ]
  },
  {
   "cell_type": "code",
   "execution_count": 2,
   "id": "3733cd22-3bef-4967-9efc-e17322dd79b9",
   "metadata": {},
   "outputs": [],
   "source": [
    "# setting dates\n",
    "start = \"2000-01-01\"\n",
    "end   = \"2022-01-01\"\n",
    "port  = \"5_Industry_Portfolios\"\n",
    "\n",
    "# pulling data\n",
    "df = pdr.famafrench.FamaFrenchReader(port, start, end).read()[0]\n",
    "df = df.replace(-99.99,0) # replace nan values\n",
    "df = df / 100 # changing format to decimals\n",
    "\n",
    "# risk free rate\n",
    "rf = 0.0001\n",
    "\n",
    "# returns in array\n",
    "ret = df.to_numpy()"
   ]
  },
  {
   "cell_type": "code",
   "execution_count": 3,
   "id": "2ee88df8-fdef-43b2-892d-a95a971c29c7",
   "metadata": {},
   "outputs": [],
   "source": [
    "mu = np.mean(ret, axis=0)\n",
    "sigma = np.std(ret, axis=0)\n",
    "sharpe_ratio = (mu - rf)/sigma"
   ]
  },
  {
   "cell_type": "code",
   "execution_count": 4,
   "id": "63d0e5e1-4777-459f-b260-b75759418399",
   "metadata": {},
   "outputs": [
    {
     "data": {
      "image/png": "[encoded data removed]",
      "text/plain": [
       "<Figure size 864x576 with 1 Axes>"
      ]
     },
     "metadata": {
      "needs_background": "light"
     },
     "output_type": "display_data"
    }
   ],
   "source": [
    "barWidth = 0.25\n",
    "fig = plt.subplots(figsize =(12, 8))\n",
    "\n",
    "# Set position of bar on X axis\n",
    "br1 = np.arange(len(mu))\n",
    "br2 = [x + barWidth for x in br1]\n",
    "br3 = [x + barWidth for x in br2]\n",
    " \n",
    "# Make the plot\n",
    "plt.bar(br1, mu, color ='r', width = barWidth,\n",
    "        edgecolor ='grey', label ='Mean return')\n",
    "plt.bar(br2, sigma, color ='g', width = barWidth,\n",
    "        edgecolor ='grey', label ='Volatility')\n",
    "plt.bar(br3, sharpe_ratio, color ='b', width = barWidth,\n",
    "        edgecolor ='grey', label ='Sharpe ratio')\n",
    "\n",
    "plt.xticks(br2, list(df.columns))\n",
    "\n",
    "plt.xlabel(\"Asset\", size=12)\n",
    "plt.title(\"Figure 1: Asset input values\", size=16)\n",
    "\n",
    "plt.grid()\n",
    "plt.legend()\n",
    "\n",
    "plt.show()"
   ]
  },
  {
   "cell_type": "markdown",
   "id": "f53666b8-4291-4106-9348-600e53176d27",
   "metadata": {},
   "source": [
    "# Auxilliary constants\n",
    "\n",
    "The auxiliary constants are calculated as follows.<br>\n",
    "\n",
    "$$\n",
    "A = \\mu \\cdot \\Sigma^{-1} \\mu\n",
    "$$\n",
    "\n",
    "$$\n",
    "B = 1 \\cdot \\Sigma^{-1} \\mu\n",
    "$$\n",
    "\n",
    "$$\n",
    "C = 1 \\cdot \\Sigma^{-1} 1\n",
    "$$\n",
    "\n",
    "$$\n",
    "d = AC - B^{2}\n",
    "$$"
   ]
  },
  {
   "cell_type": "code",
   "execution_count": 5,
   "id": "dcc8db21-eb52-4c5b-b7bc-43f1a7dfe10a",
   "metadata": {},
   "outputs": [
    {
     "data": {
      "text/plain": [
       "{'a': 0.07741614297046809,\n",
       " 'b': 7.7155895796105005,\n",
       " 'c': 824.4009680534191,\n",
       " 'd': 4.291620646821642}"
      ]
     },
     "execution_count": 5,
     "metadata": {},
     "output_type": "execute_result"
    }
   ],
   "source": [
    "auxiliary_constants(mu, ret, False)"
   ]
  },
  {
   "cell_type": "markdown",
   "id": "081c0323-f138-405d-8061-366da2210128",
   "metadata": {},
   "source": [
    "# Minimum-variance portfolio\n",
    "\n",
    "The minimum variance portfolio is the portfolio with the lowest expected variance using the assets in the universe. Naturally, the minimum variance portfolio is located on the efficient frontier.<br>\n",
    "\n",
    "**Weights**<br>\n",
    "\n",
    "The weights of the assets in the minimum variance portfolio is calculated as follows.<br>\n",
    "\n",
    "$$\n",
    "\\pi_{\\text{min}} = \\frac{1}{C} \\Sigma^{-1} \\mu\n",
    "$$\n",
    "\n",
    "**Expected return**<br>\n",
    "\n",
    "The expected return of the minimum variance portfolio is calcualted as follows.<br>\n",
    "\n",
    "$$\n",
    "r_{\\text{min}} = \\frac{b}{C}\n",
    "$$\n",
    "\n",
    "**Expected variance**<br>\n",
    "\n",
    "The expected varaince of the minimum variance portfolio is calcualted as follows.<br>\n",
    "\n",
    "$$\n",
    "\\sigma_{\\text{min}} = \\frac{1}{C}\n",
    "$$"
   ]
  },
  {
   "cell_type": "code",
   "execution_count": 6,
   "id": "f03d8347-f344-43c7-8818-48df524ac1e6",
   "metadata": {},
   "outputs": [
    {
     "name": "stdout",
     "output_type": "stream",
     "text": [
      "Minimum varaince expected return: 0.009359\n",
      "---\n",
      "Minimum varaince expected volatility: 0.034828\n",
      "---\n",
      "Minimum varaince expected sharpe ratio: 0.265849\n"
     ]
    }
   ],
   "source": [
    "min_ret = minimum_variance_return(mu, ret, False)\n",
    "min_ret = np.round(min_ret, 6)\n",
    "\n",
    "min_std = np.sqrt(minimum_variance_varaince(mu, ret, False))\n",
    "min_std = np.round(min_std, 6)\n",
    "\n",
    "min_sharpe = np.round((min_ret - rf) / min_std, 6)\n",
    "\n",
    "# printing\n",
    "print(\"Minimum varaince expected return:\", min_ret)\n",
    "print(\"---\")\n",
    "print(\"Minimum varaince expected volatility:\", min_std)\n",
    "print(\"---\")\n",
    "print(\"Minimum varaince expected sharpe ratio:\", min_sharpe)"
   ]
  },
  {
   "cell_type": "markdown",
   "id": "2baefe1d-1735-4b34-82f6-a0a45ee64eda",
   "metadata": {},
   "source": [
    "# Maximum-slope portfolio\n",
    "\n",
    "The maximum-slope portfolio is the portfolio with the higest expected sharpe-ratio in the Markowitz mean-variance framework (without a risk-free asset). Once introducing a risk-free asset the maximum-slope portfolio does not promise the highest expected sharpe ratio.\n",
    "\n",
    "**Weights**<br>\n",
    "\n",
    "The weights of the assets in the maximum slope portfolio is calculated as follows.<br>\n",
    "\n",
    "$$\n",
    "\\pi_{\\text{max}} = \\frac{1}{B} \\Sigma^{-1} \\mu\n",
    "$$\n",
    "\n",
    "**Expected return**<br>\n",
    "\n",
    "The expected return of the maximum slope portfolio is calcualted as follows.<br>\n",
    "\n",
    "$$\n",
    "r_{\\text{max}} = \\frac{A}{B}\n",
    "$$\n",
    "\n",
    "**Expected variance**<br>\n",
    "\n",
    "The expected varaince of the maximum slope portfolio is calcualted as follows.<br>\n",
    "\n",
    "$$\n",
    "\\sigma_{\\text{max}} = \\frac{A}{B^2}\n",
    "$$\n"
   ]
  },
  {
   "cell_type": "code",
   "execution_count": 7,
   "id": "5468752d-e8a8-49ff-bc90-06498e167129",
   "metadata": {},
   "outputs": [
    {
     "name": "stdout",
     "output_type": "stream",
     "text": [
      "Minimum varaince expected return: 0.010034\n",
      "---\n",
      "Minimum varaince expected volatility: 0.036062\n",
      "---\n",
      "Minimum varaince expected sharpe ratio: 0.27547\n"
     ]
    }
   ],
   "source": [
    "max_ret = maximum_slope_return(mu, ret, False)\n",
    "max_ret = np.round(max_ret, 6)\n",
    "\n",
    "max_std = np.sqrt(maximum_slope_variance(mu, ret, False))\n",
    "max_std = np.round(max_std, 6)\n",
    "\n",
    "max_sharpe = np.round((max_ret - rf) / max_std, 6)\n",
    "\n",
    "# printing\n",
    "print(\"Minimum varaince expected return:\", max_ret)\n",
    "print(\"---\")\n",
    "print(\"Minimum varaince expected volatility:\", max_std)\n",
    "print(\"---\")\n",
    "print(\"Minimum varaince expected sharpe ratio:\", max_sharpe)"
   ]
  },
  {
   "cell_type": "markdown",
   "id": "0bb5cea9-b995-408a-a232-6d629ea55ee5",
   "metadata": {},
   "source": [
    "# Tangency portfolio\n",
    "\n",
    "When introducing a risk-free asset the efficient frontier is pushed outward and becomes as straight line. This new efficient frontier tangents with the efficient frontier of risky assets. That tangent point is the tangent portfolio.\n",
    "\n",
    "The tangent portfolio has the property (as the max-slope portfolio) that is maximizes the sharpe ratio among risky and the risk-free asset(s).\n",
    "\n",
    "The tangency portfolio and risk-free asset is used to select the optimal portfolio. An investor would move up and down the efficient frontier using a combination of the risky free-rate and tangency portfolio.\n",
    "\n",
    "**Weights**<br>\n",
    "\n",
    "The weights of the assets in the tangency portfolio is calculated as follows.<br>\n",
    "\n",
    "$$\n",
    "\\pi_{\\text{tan}} = \\frac{1}{B - C \\cdot rf} \\Sigma^{-1}\n",
    "$$\n",
    "\n",
    "**Expected return**<br>\n",
    "\n",
    "The expected return of the tangency portfolio is calcualted as follows.<br>\n",
    "\n",
    "$$\n",
    "r_{\\text{tan}} = \\frac{A - B \\cdot {rf}}{B - C \\cdot {rf}}\n",
    "$$\n",
    "\n",
    "**Expected variance**<br>\n",
    "\n",
    "The expected varaince of the tangency portfolio is calcualted as follows.<br>\n",
    "\n",
    "$$\n",
    "\\sigma_{\\text{tan}} = \\frac{A - 2B \\cdot {rf} + C \\cdot {rf}^2}{(B - C \\cdot {rf})^2}\n",
    "$$"
   ]
  },
  {
   "cell_type": "code",
   "execution_count": 8,
   "id": "dea415d2-58df-43a4-b61c-93447c3c2119",
   "metadata": {},
   "outputs": [
    {
     "name": "stdout",
     "output_type": "stream",
     "text": [
      "Minimum varaince expected return: 0.010041\n",
      "---\n",
      "Minimum varaince expected volatility: 0.036088\n",
      "---\n",
      "Minimum varaince expected sharpe ratio: 0.275466\n"
     ]
    }
   ],
   "source": [
    "tan_ret = tangency_portfolio_return(mu, ret, rf, False)\n",
    "tan_ret = np.round(tan_ret, 6)\n",
    "\n",
    "tan_std = np.sqrt(tangency_portfolio_variance(mu, ret, rf, False))\n",
    "tan_std = np.round(tan_std, 6)\n",
    "\n",
    "tan_sharpe = np.round((tan_ret - rf) / tan_std, 6)\n",
    "\n",
    "# printing\n",
    "print(\"Minimum varaince expected return:\", tan_ret)\n",
    "print(\"---\")\n",
    "print(\"Minimum varaince expected volatility:\", tan_std)\n",
    "print(\"---\")\n",
    "print(\"Minimum varaince expected sharpe ratio:\", tan_sharpe)"
   ]
  },
  {
   "cell_type": "markdown",
   "id": "c8d94501-1eaa-4669-ac38-20c8f592e5f4",
   "metadata": {},
   "source": [
    "# Implications\n",
    "\n",
    "Looking at Figure 1 gives an idea of which assets might be weighted low and high by the different portfolios. What one would expect is the following. <br>\n",
    "\n",
    "* Minimum variance portfolio:<br>\n",
    "    * High: Consumer <br>\n",
    "    * Low: High Tech <br>\n",
    "* Maximum slope portfolio: <br>\n",
    "    * High: Consumer <br>\n",
    "    * Low: High Tech. <br>\n",
    "\n",
    "These implications are not all apparent when only considering returns and volatility. It is crucial to include the correlation matrix as the optimization uses that in the form of the covariance matrix. If two assets are negative uncorrelated an apparently unintuitive large position might be taken in one of them purely for the sake of diversification.\n",
    "\n",
    "\n",
    "**Comment**\n",
    "\n",
    "The Figure displays to large extent what was expected. The two portfolios have somewhat of a similar pattern of weights, which is due to the fact that the five portfolios have very identical expected returns, which only leaves expected volatility to exhibit differences."
   ]
  },
  {
   "cell_type": "code",
   "execution_count": 9,
   "id": "460aab7c-7546-4536-aed3-79d05b0ef018",
   "metadata": {},
   "outputs": [
    {
     "data": {
      "image/png": "[encoded data removed]",
      "text/plain": [
       "<Figure size 864x576 with 1 Axes>"
      ]
     },
     "metadata": {
      "needs_background": "light"
     },
     "output_type": "display_data"
    }
   ],
   "source": [
    "min_weights = minimum_varaince_weights(mu, ret, False)\n",
    "max_weights = maximum_slope_weights(mu, ret, False)\n",
    "tan_weights = tangency_portfolio_weights(mu, ret, rf, False)\n",
    "\n",
    "barWidth = 0.25\n",
    "fig = plt.subplots(figsize =(12, 8))\n",
    "\n",
    "mean_ret = min_weights\n",
    "volatility = max_weights\n",
    "unit_return = tan_weights\n",
    "\n",
    "# Set position of bar on X axis\n",
    "br1 = np.arange(len(mean_ret))\n",
    "br2 = [x + barWidth for x in br1]\n",
    "br3 = [x + barWidth for x in br2]\n",
    " \n",
    "# Make the plot\n",
    "plt.bar(br1, mean_ret, color ='r', width = barWidth,\n",
    "        edgecolor ='grey', label ='Min-Var')\n",
    "plt.bar(br2, volatility, color ='g', width = barWidth,\n",
    "        edgecolor ='grey', label ='Max-Slope')\n",
    "plt.bar(br3, unit_return, color ='b', width = barWidth,\n",
    "        edgecolor ='grey', label ='Tangency')\n",
    "\n",
    "plt.xticks(br2, list(df.columns))\n",
    "\n",
    "plt.ylabel(\"Weight\")\n",
    "plt.xlabel(\"Asset\", size=12)\n",
    "plt.title(\"Figure 2: Weights per portfolio\", size=16)\n",
    "\n",
    "plt.grid()\n",
    "plt.legend()\n",
    "\n",
    "plt.show()"
   ]
  },
  {
   "cell_type": "code",
   "execution_count": 10,
   "id": "6ab3cd3d-aa25-4581-8ac8-ba40526f9fad",
   "metadata": {},
   "outputs": [],
   "source": [
    "ef_ret = efficient_frontier(mu, ret, rf, False)[\"returns\"]\n",
    "ef_std = efficient_frontier(mu, ret, rf, False)[\"std\"]\n",
    "\n",
    "gl_ef_ret = efficient_frontier(mu, ret, rf, False)[\"returns_global\"]\n",
    "gl_ef_std = efficient_frontier(mu, ret, rf, False)[\"std_global\"]"
   ]
  },
  {
   "cell_type": "code",
   "execution_count": 12,
   "id": "f67180b2-d011-42b8-ab1b-2645fffc4568",
   "metadata": {},
   "outputs": [
    {
     "data": {
      "image/png": "[encoded data removed]",
      "text/plain": [
       "<Figure size 864x720 with 1 Axes>"
      ]
     },
     "metadata": {
      "needs_background": "light"
     },
     "output_type": "display_data"
    }
   ],
   "source": [
    "fig = plt.figure(figsize=(12,10))\n",
    "\n",
    "# efficient frontier\n",
    "plt.plot(ef_std, ef_ret, label=\"Efficient frontier (no rf)\", color=\"purple\")\n",
    "plt.plot(gl_ef_std, gl_ef_ret, label=\"Global Efficient frontier (with rf)\", color=\"black\")\n",
    "\n",
    "# portfolios\n",
    "plt.scatter(min_std, min_ret, label=\"Minimum variance\", color=\"blue\")\n",
    "plt.scatter(max_std, max_ret, label=\"Maximum slope\", color=\"red\")\n",
    "plt.scatter(tan_std, tan_ret, label=\"Tangency\", color=\"black\", marker=\"x\", s=100)\n",
    "\n",
    "plt.title(\"Figure 3: Mean Variance optimization\", size=16)\n",
    "plt.xlabel(\"Expected volatility\", size=12)\n",
    "plt.ylabel(\"Expected return\", size=12)\n",
    "\n",
    "plt.xlim(-0.001, 0.09)\n",
    "\n",
    "plt.grid(linestyle=\"--\")\n",
    "plt.legend()\n",
    "\n",
    "plt.show()"
   ]
  }
 ],
 "metadata": {
  "kernelspec": {
   "display_name": "Python 3 (ipykernel)",
   "language": "python",
   "name": "python3"
  },
  "language_info": {
   "codemirror_mode": {
    "name": "ipython",
    "version": 3
   },
   "file_extension": ".py",
   "mimetype": "text/x-python",
   "name": "python",
   "nbconvert_exporter": "python",
   "pygments_lexer": "ipython3",
   "version": "3.9.7"
  }
 },
 "nbformat": 4,
 "nbformat_minor": 5
}
